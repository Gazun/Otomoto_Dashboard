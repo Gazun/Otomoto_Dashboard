{
 "cells": [
  {
   "cell_type": "code",
   "execution_count": 44,
   "id": "reflected-playlist",
   "metadata": {},
   "outputs": [],
   "source": [
    "import pandas as pd\n",
    "\n",
    "path = 'D:/Google Drive/Synchronizowane/Python/Projekty/' \\\n",
    "        'OtoMoto/Otomoto_Dashboard/data/oto_moto_czyste.csv'"
   ]
  },
  {
   "cell_type": "code",
   "execution_count": 83,
   "id": "expressed-investing",
   "metadata": {},
   "outputs": [],
   "source": [
    "def wyczysc_dane(df):\n",
    "    \n",
    "    path = 'D:/Google Drive/Synchronizowane/Python/Projekty/' \\\n",
    "        'OtoMoto/Otomoto_Dashboard/data/oto_moto_czyste.csv'\n",
    "    \n",
    "    war_1 = df.Leasing.isna()\n",
    "    war_2 = df.Uszkodzony.isna()\n",
    "\n",
    "    df = df.loc[war_1 & war_2]\n",
    "\n",
    "    df = df[df.Waluta == 'PLN']\n",
    "    df = df[~df['Rok produkcji'].isna()]\n",
    "    df = df[~df['Przebieg'].isna()]\n",
    "    df = df[~df['Pojemność skokowa'].isna()]\n",
    "    df = df[~df['Moc'].isna()]\n",
    "\n",
    "    df['Rok produkcji'] = df['Rok produkcji'].astype(int)\n",
    "\n",
    "    df.Przebieg = df.Przebieg \\\n",
    "        .str.replace('km','') \\\n",
    "        .str.replace(' ','') \\\n",
    "        .astype(int)\n",
    "\n",
    "    df['Pojemność skokowa'] = df['Pojemność skokowa'] \\\n",
    "        .str.replace('cm3','') \\\n",
    "        .str.replace(' ','') \\\n",
    "        .astype(int)\n",
    "\n",
    "    df.Moc = df.Moc \\\n",
    "        .str.replace('KM','') \\\n",
    "        .str.replace(' ','') \\\n",
    "        .astype(int)\n",
    "\n",
    "    df['Rok ogloszenia'] = df.Data.str[-4:].astype(int)\n",
    "    df['Wiek'] = df['Rok ogloszenia'] - df['Rok produkcji']\n",
    "\n",
    "\n",
    "    df.Cena = df.Cena.astype(float)\n",
    "\n",
    "    cols = ['Marka pojazdu', 'Model pojazdu', 'Rok produkcji', 'Wiek',\n",
    "           'Przebieg', 'Pojemność skokowa', 'Rodzaj paliwa', 'Moc',\n",
    "           'Skrzynia biegów','Napęd', 'Typ', 'Cena']\n",
    "    \n",
    "    df.to_csv(path, index=False)"
   ]
  },
  {
   "cell_type": "code",
   "execution_count": 84,
   "id": "automatic-motivation",
   "metadata": {},
   "outputs": [],
   "source": [
    "wyczysc_dane(df)"
   ]
  }
 ],
 "metadata": {
  "kernelspec": {
   "display_name": "Python 3",
   "language": "python",
   "name": "python3"
  },
  "language_info": {
   "codemirror_mode": {
    "name": "ipython",
    "version": 3
   },
   "file_extension": ".py",
   "mimetype": "text/x-python",
   "name": "python",
   "nbconvert_exporter": "python",
   "pygments_lexer": "ipython3",
   "version": "3.8.8"
  }
 },
 "nbformat": 4,
 "nbformat_minor": 5
}
